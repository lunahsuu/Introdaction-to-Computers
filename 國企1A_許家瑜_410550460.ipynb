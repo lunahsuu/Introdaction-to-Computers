{
  "nbformat": 4,
  "nbformat_minor": 0,
  "metadata": {
    "colab": {
      "name": "國企1A_許家瑜_410550460.ipynb",
      "provenance": [],
      "authorship_tag": "ABX9TyOzMRyi6ldWWaRMM4/Y5SNW",
      "include_colab_link": true
    },
    "kernelspec": {
      "name": "python3",
      "display_name": "Python 3"
    },
    "language_info": {
      "name": "python"
    }
  },
  "cells": [
    {
      "cell_type": "markdown",
      "metadata": {
        "id": "view-in-github",
        "colab_type": "text"
      },
      "source": [
        "<a href=\"https://colab.research.google.com/github/lunahsuu/Introdaction-to-Computers/blob/main/%E5%9C%8B%E4%BC%811A_%E8%A8%B1%E5%AE%B6%E7%91%9C_410550460.ipynb\" target=\"_parent\"><img src=\"https://colab.research.google.com/assets/colab-badge.svg\" alt=\"Open In Colab\"/></a>"
      ]
    },
    {
      "cell_type": "code",
      "execution_count": 17,
      "metadata": {
        "colab": {
          "base_uri": "https://localhost:8080/"
        },
        "id": "m76EfZj8T5-_",
        "outputId": "e8026583-2ae4-4957-911f-96675531bd92"
      },
      "outputs": [
        {
          "output_type": "stream",
          "name": "stdout",
          "text": [
            "請輸入消費者身上的金額130\n",
            "可購買手機\n"
          ]
        }
      ],
      "source": [
        "money=int(input('請輸入消費者身上的金額'))\n",
        "if(money<100):\n",
        "    print('金額不足')\n",
        "elif(money>=100 and money<200):\n",
        "    print('可購買手機')\n",
        "elif(money>=200 and money<300):\n",
        "    print('可購買平板')\n",
        "else:\n",
        "    (money>=300 and money <400)\n",
        "    print('可購買電腦')"
      ]
    },
    {
      "cell_type": "code",
      "source": [
        ""
      ],
      "metadata": {
        "id": "1PFuj4iGZYV6"
      },
      "execution_count": null,
      "outputs": []
    }
  ]
}