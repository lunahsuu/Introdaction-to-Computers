{
  "nbformat": 4,
  "nbformat_minor": 0,
  "metadata": {
    "colab": {
      "name": "期末考練習.ipynb",
      "provenance": [],
      "authorship_tag": "ABX9TyN19zCKTXuEOginraWyErs3",
      "include_colab_link": true
    },
    "kernelspec": {
      "name": "python3",
      "display_name": "Python 3"
    },
    "language_info": {
      "name": "python"
    }
  },
  "cells": [
    {
      "cell_type": "markdown",
      "metadata": {
        "id": "view-in-github",
        "colab_type": "text"
      },
      "source": [
        "<a href=\"https://colab.research.google.com/github/lunahsuu/Introdaction-to-Computers/blob/main/%E6%9C%9F%E6%9C%AB%E8%80%83%E7%B7%B4%E7%BF%92.ipynb\" target=\"_parent\"><img src=\"https://colab.research.google.com/assets/colab-badge.svg\" alt=\"Open In Colab\"/></a>"
      ]
    },
    {
      "cell_type": "code",
      "source": [
        "print(\"test\")"
      ],
      "metadata": {
        "colab": {
          "base_uri": "https://localhost:8080/"
        },
        "id": "x2FtLVx8hmv-",
        "outputId": "d61acf93-554c-4583-f00b-b2a8f496c4ed"
      },
      "execution_count": 1,
      "outputs": [
        {
          "output_type": "stream",
          "name": "stdout",
          "text": [
            "test\n"
          ]
        }
      ]
    },
    {
      "cell_type": "code",
      "source": [
        "temp = float(input(\"請輸入你的體溫\"))\n",
        "if temp >= 37.5:\n",
        "  print(\"體溫過高!\")\n",
        "elif temp >= 37 and temp <= 37.4:\n",
        "  print(\"體溫略高!\")\n",
        "elif temp >= 34 and temp <= 36.9:\n",
        "  print(\"體溫正常!\")\n",
        "else: \n",
        "  print(\"體溫異常,請重新量測!\")"
      ],
      "metadata": {
        "colab": {
          "base_uri": "https://localhost:8080/"
        },
        "id": "07fw6VRmhmzF",
        "outputId": "36a11837-acae-4acd-b3f8-7539b37b5ac0"
      },
      "execution_count": 2,
      "outputs": [
        {
          "output_type": "stream",
          "name": "stdout",
          "text": [
            "請輸入你的體溫36.9\n",
            "體溫正常!\n"
          ]
        }
      ]
    },
    {
      "cell_type": "code",
      "source": [
        "money = int(input(\"請輸入購物金額:\"))\n",
        "if(money>=10000):\n",
        "  if(money>=100000):\n",
        "    print(\"八折\", money * 0.8, end = \"元\\n\")\n",
        "  elif(money>=50000):\n",
        "    print(\"八五折\", money * 0.85, end = \"元\\n\")\n",
        "  elif(money>=30000): \n",
        "    print(\"九折\", money * 0.9, end = \"元\\n\")\n",
        "  else:\n",
        "    print(\"九五折\", money * 0.95, end = \"元\\n\")\n",
        "else:\n",
        "  print(\"沒打折\", money, end= \"元\\n\")"
      ],
      "metadata": {
        "colab": {
          "base_uri": "https://localhost:8080/"
        },
        "id": "0vh6_aNhhmtV",
        "outputId": "931698e1-ea16-4bea-bf45-669d10cd8614"
      },
      "execution_count": 3,
      "outputs": [
        {
          "output_type": "stream",
          "name": "stdout",
          "text": [
            "請輸入購物金額:100000\n",
            "八折 80000.0元\n"
          ]
        }
      ]
    },
    {
      "cell_type": "code",
      "source": [
        "grade = int(input(\"請輸入成績\"))\n",
        "if (grade >=90):\n",
        "  print(\"A\")\n",
        "elif (90>grade>=80):\n",
        "  print(\"B\")\n",
        "elif (80>grade>=70):\n",
        "  print(\"C\")\n",
        "elif (70>grade>=60):\n",
        "  print(\"D\")\n",
        "else:\n",
        "  print(\"E\")\n",
        "grade = int(input(\"請輸入成績\"))\n",
        "if (grade >=90):\n",
        "  print(\"A\")\n",
        "elif (90>grade>=80):\n",
        "  print(\"B\")\n",
        "elif (80>grade>=70):\n",
        "  print(\"C\")\n",
        "elif (70>grade>=60):\n",
        "  print(\"D\")\n",
        "else:\n",
        "  print(\"E\")\n",
        "grade = int(input(\"請輸入成績\"))\n",
        "if (grade >=90):\n",
        "  print(\"A\")\n",
        "elif (90>grade>=80):\n",
        "  print(\"B\")\n",
        "elif (80>grade>=70):\n",
        "  print(\"C\")\n",
        "elif (70>grade>=60):\n",
        "  print(\"D\")\n",
        "else:\n",
        "  print(\"E\")"
      ],
      "metadata": {
        "colab": {
          "base_uri": "https://localhost:8080/"
        },
        "id": "nwNTk419hmm2",
        "outputId": "5b959b5c-94fc-4bf3-a03b-7cb9915c9f30"
      },
      "execution_count": 4,
      "outputs": [
        {
          "output_type": "stream",
          "name": "stdout",
          "text": [
            "請輸入成績90\n",
            "A\n",
            "請輸入成績80\n",
            "B\n",
            "請輸入成績50\n",
            "E\n"
          ]
        }
      ]
    },
    {
      "cell_type": "code",
      "source": [
        "month = int(input(\"請輸入月份\"))\n",
        "if (month == 3 or month == 4 or month == 5):\n",
        "   print(\" %d 月是春天!\"%(month))\n",
        "elif (month == 6 or month == 7 or month == 8):\n",
        "   print(\" %d 月是夏天!\"%(month))\n",
        "elif (month == 9 or month == 10 or month == 11):\n",
        "   print(\" %d 月是秋天!\"%(month))\n",
        "elif (month == 12 or month == 1 or month == 2):\n",
        "  print(\" %d 月是冬天!\"%(month))\n",
        "else:\n",
        "  print(\"月份不在範圍內!\")"
      ],
      "metadata": {
        "colab": {
          "base_uri": "https://localhost:8080/"
        },
        "id": "Jtj-kHmPhmkt",
        "outputId": "4341667e-fd09-456c-f342-d30a41a5b50a"
      },
      "execution_count": 5,
      "outputs": [
        {
          "output_type": "stream",
          "name": "stdout",
          "text": [
            "請輸入月份11\n",
            " 11 月是秋天!\n"
          ]
        }
      ]
    },
    {
      "cell_type": "code",
      "source": [
        "Tax = float(input(\"請輸入今年收入淨額\"))\n",
        "if (Tax >=2000000):\n",
        "  print(\"付稅金額\", Tax*0.3 ,end= \"元\\n\")\n",
        "elif (2000000> Tax >=1000000):\n",
        "  print(\"付稅金額\", Tax*0.21 ,end= \"元\\n\")\n",
        "elif (1000000> Tax >=600000):\n",
        "  print(\"付稅金額\", Tax*0.13 ,end= \"元\\n\")\n",
        "elif (600000> Tax >=300000):\n",
        "  print(\"付稅金額\", Tax*0.06 ,end= \"元\\n\")\n",
        "else:\n",
        "  print(\"付稅金額\", 0 ,end= \"元\\n\")\n",
        "Tax = float(input(\"請輸入今年收入淨額\"))\n",
        "if (Tax >=2000000):\n",
        "  print(\"付稅金額\", Tax*0.3 ,end= \"元\\n\")\n",
        "elif (2000000> Tax >=1000000):\n",
        "  print(\"付稅金額\", Tax*0.21 ,end= \"元\\n\")\n",
        "elif (1000000> Tax >=600000):\n",
        "  print(\"付稅金額\", Tax*0.13 ,end= \"元\\n\")\n",
        "elif (600000> Tax >=300000):\n",
        "  print(\"付稅金額\", Tax*0.06 ,end= \"元\\n\")\n",
        "else:\n",
        "  print(\"付稅金額\", 0 ,end= \"元\\n\")"
      ],
      "metadata": {
        "colab": {
          "base_uri": "https://localhost:8080/"
        },
        "id": "y39h7qTqhmiN",
        "outputId": "62666b54-f842-4136-9ddf-a04c83d1b589"
      },
      "execution_count": 6,
      "outputs": [
        {
          "output_type": "stream",
          "name": "stdout",
          "text": [
            "請輸入今年收入淨額100000\n",
            "付稅金額 0元\n",
            "請輸入今年收入淨額2000000\n",
            "付稅金額 600000.0元\n"
          ]
        }
      ]
    },
    {
      "cell_type": "code",
      "source": [
        "print(\"hi\")"
      ],
      "metadata": {
        "colab": {
          "base_uri": "https://localhost:8080/"
        },
        "id": "bugzbDyZhmfT",
        "outputId": "78b04aea-1b88-4bad-cd67-496d63e40f7c"
      },
      "execution_count": 7,
      "outputs": [
        {
          "output_type": "stream",
          "name": "stdout",
          "text": [
            "hi\n"
          ]
        }
      ]
    },
    {
      "cell_type": "code",
      "source": [
        "i = range(5)\n",
        "print(type(i))\n",
        "print(i)\n",
        "print(list(i))"
      ],
      "metadata": {
        "colab": {
          "base_uri": "https://localhost:8080/"
        },
        "id": "D-UWartshmcj",
        "outputId": "bf3f3268-ac3f-4ddb-f249-62ac089681f3"
      },
      "execution_count": 10,
      "outputs": [
        {
          "output_type": "stream",
          "name": "stdout",
          "text": [
            "<class 'range'>\n",
            "range(0, 5)\n",
            "[0, 1, 2, 3, 4]\n"
          ]
        }
      ]
    },
    {
      "cell_type": "code",
      "source": [
        "j = range(10)\n",
        "print(j)\n",
        "print(list(j))"
      ],
      "metadata": {
        "colab": {
          "base_uri": "https://localhost:8080/"
        },
        "id": "FNFvQA53hmZk",
        "outputId": "2f78c639-2db5-4073-d33e-b9c8bcfeea4b"
      },
      "execution_count": 11,
      "outputs": [
        {
          "output_type": "stream",
          "name": "stdout",
          "text": [
            "range(0, 10)\n",
            "[0, 1, 2, 3, 4, 5, 6, 7, 8, 9]\n"
          ]
        }
      ]
    },
    {
      "cell_type": "code",
      "source": [
        "a = range(3,8)\n",
        "print(list(a))\n",
        "b = range(-2,4)\n",
        "print(list(b))\n",
        "c = range(3,8,1)\n",
        "print(list(c))\n",
        "d = range(3,8,2)\n",
        "print(list(d))\n",
        "e = range(8,3,-1)\n",
        "print(list(e))\n",
        "f = range(9)\n",
        "print(list(f))\n",
        "g = range(1,10)\n",
        "print(list(g))\n",
        "h = range(1,10,2)\n",
        "print(list(h))\n",
        "i = range(10,1,-2)\n",
        "print(list(i))"
      ],
      "metadata": {
        "colab": {
          "base_uri": "https://localhost:8080/"
        },
        "id": "-8EaHaH9hmWe",
        "outputId": "81c934d3-b1b0-421f-8397-577da8d043ec"
      },
      "execution_count": 13,
      "outputs": [
        {
          "output_type": "stream",
          "name": "stdout",
          "text": [
            "[3, 4, 5, 6, 7]\n",
            "[-2, -1, 0, 1, 2, 3]\n",
            "[3, 4, 5, 6, 7]\n",
            "[3, 5, 7]\n",
            "[8, 7, 6, 5, 4]\n",
            "[0, 1, 2, 3, 4, 5, 6, 7, 8]\n",
            "[1, 2, 3, 4, 5, 6, 7, 8, 9]\n",
            "[1, 3, 5, 7, 9]\n",
            "[10, 8, 6, 4, 2]\n"
          ]
        }
      ]
    },
    {
      "cell_type": "code",
      "source": [
        "for n in range(3):\n",
        "    print(n, end =\",\")\n",
        "for n in range(10):\n",
        "    print(n, end =\",\")"
      ],
      "metadata": {
        "colab": {
          "base_uri": "https://localhost:8080/"
        },
        "id": "1m2WO364hmT0",
        "outputId": "ca6e07b1-11c5-4611-9dd0-0bca6cc0904c"
      },
      "execution_count": 17,
      "outputs": [
        {
          "output_type": "stream",
          "name": "stdout",
          "text": [
            "0,1,2,0,1,2,3,4,5,6,7,8,9,"
          ]
        }
      ]
    },
    {
      "cell_type": "code",
      "source": [
        "test = int(input(\"請輸入一個正整數：\"))\n",
        "for m in range(1,test+1):\n",
        "    print(m, end = \" \")"
      ],
      "metadata": {
        "colab": {
          "base_uri": "https://localhost:8080/"
        },
        "id": "8TVXcsBshmQw",
        "outputId": "236447d0-8567-41bd-d226-67ffcf1d5413"
      },
      "execution_count": 18,
      "outputs": [
        {
          "output_type": "stream",
          "name": "stdout",
          "text": [
            "請輸入一個正整數：10\n",
            "1 2 3 4 5 6 7 8 9 10 "
          ]
        }
      ]
    },
    {
      "cell_type": "code",
      "source": [
        "test = int(input(\"請輸入一個正整數：\"))\n",
        "for m in range(1,test+1,2):\n",
        "    print(m, end = \" \")"
      ],
      "metadata": {
        "colab": {
          "base_uri": "https://localhost:8080/"
        },
        "id": "Sur8pSVLhmN1",
        "outputId": "faa85c0e-c031-4a6b-982c-2768bd2ccc09"
      },
      "execution_count": 19,
      "outputs": [
        {
          "output_type": "stream",
          "name": "stdout",
          "text": [
            "請輸入一個正整數：10\n",
            "1 3 5 7 9 "
          ]
        }
      ]
    },
    {
      "cell_type": "code",
      "source": [
        "sum = 0\n",
        "for n in range(3):\n",
        "    sum =sum+n\n",
        "print(sum)\n",
        "sum = 0\n",
        "for n in range(5):\n",
        "    sum =sum+n\n",
        "print(sum)\n"
      ],
      "metadata": {
        "colab": {
          "base_uri": "https://localhost:8080/"
        },
        "id": "coAVvCKMhmLC",
        "outputId": "9ef1727a-5222-41f7-95e0-266853947d5d"
      },
      "execution_count": 21,
      "outputs": [
        {
          "output_type": "stream",
          "name": "stdout",
          "text": [
            "3\n",
            "10\n"
          ]
        }
      ]
    },
    {
      "cell_type": "code",
      "source": [
        "sum = 0\n",
        "test = int(input(\"請輸入一個正整數：\"))\n",
        "for n in range(1, test+1):\n",
        "    sum = sum+n\n",
        "print(\"1到\",test,\"的整數和為\",sum)"
      ],
      "metadata": {
        "colab": {
          "base_uri": "https://localhost:8080/"
        },
        "id": "dR92O7Z7hmIY",
        "outputId": "d93369ea-b296-44fd-fba1-5e60a06ae790"
      },
      "execution_count": 25,
      "outputs": [
        {
          "output_type": "stream",
          "name": "stdout",
          "text": [
            "請輸入一個正整數：50\n",
            "1到 50 的整數和為 1275\n"
          ]
        }
      ]
    },
    {
      "cell_type": "code",
      "source": [
        "sum = 0\n",
        "test = int(input(\"請輸入一個正整數：\"))\n",
        "for m in range(1, test+1 ):\n",
        "   sum = sum+m\n",
        "   print(\"1到\"+str(m)+\"的整數和為：\",sum)"
      ],
      "metadata": {
        "colab": {
          "base_uri": "https://localhost:8080/"
        },
        "id": "VUFCxE3vhmFg",
        "outputId": "8ba11850-556c-4412-9454-662440f02551"
      },
      "execution_count": 26,
      "outputs": [
        {
          "output_type": "stream",
          "name": "stdout",
          "text": [
            "請輸入一個正整數：50\n",
            "1到1的整數和為： 1\n",
            "1到2的整數和為： 3\n",
            "1到3的整數和為： 6\n",
            "1到4的整數和為： 10\n",
            "1到5的整數和為： 15\n",
            "1到6的整數和為： 21\n",
            "1到7的整數和為： 28\n",
            "1到8的整數和為： 36\n",
            "1到9的整數和為： 45\n",
            "1到10的整數和為： 55\n",
            "1到11的整數和為： 66\n",
            "1到12的整數和為： 78\n",
            "1到13的整數和為： 91\n",
            "1到14的整數和為： 105\n",
            "1到15的整數和為： 120\n",
            "1到16的整數和為： 136\n",
            "1到17的整數和為： 153\n",
            "1到18的整數和為： 171\n",
            "1到19的整數和為： 190\n",
            "1到20的整數和為： 210\n",
            "1到21的整數和為： 231\n",
            "1到22的整數和為： 253\n",
            "1到23的整數和為： 276\n",
            "1到24的整數和為： 300\n",
            "1到25的整數和為： 325\n",
            "1到26的整數和為： 351\n",
            "1到27的整數和為： 378\n",
            "1到28的整數和為： 406\n",
            "1到29的整數和為： 435\n",
            "1到30的整數和為： 465\n",
            "1到31的整數和為： 496\n",
            "1到32的整數和為： 528\n",
            "1到33的整數和為： 561\n",
            "1到34的整數和為： 595\n",
            "1到35的整數和為： 630\n",
            "1到36的整數和為： 666\n",
            "1到37的整數和為： 703\n",
            "1到38的整數和為： 741\n",
            "1到39的整數和為： 780\n",
            "1到40的整數和為： 820\n",
            "1到41的整數和為： 861\n",
            "1到42的整數和為： 903\n",
            "1到43的整數和為： 946\n",
            "1到44的整數和為： 990\n",
            "1到45的整數和為： 1035\n",
            "1到46的整數和為： 1081\n",
            "1到47的整數和為： 1128\n",
            "1到48的整數和為： 1176\n",
            "1到49的整數和為： 1225\n",
            "1到50的整數和為： 1275\n"
          ]
        }
      ]
    },
    {
      "cell_type": "code",
      "source": [
        "for i in range(2,10):\n",
        "  for j in range(1,10):\n",
        "    product= i * j\n",
        "    print(\"%d*%d=%2d\" % (i,j,product),end=\" \")\n",
        "  print( )"
      ],
      "metadata": {
        "colab": {
          "base_uri": "https://localhost:8080/"
        },
        "id": "7V-oCMnwk3Kc",
        "outputId": "79392287-73e6-4ec8-fb65-bfccfe926c93"
      },
      "execution_count": 33,
      "outputs": [
        {
          "output_type": "stream",
          "name": "stdout",
          "text": [
            "2*1= 2 2*2= 4 2*3= 6 2*4= 8 2*5=10 2*6=12 2*7=14 2*8=16 2*9=18 \n",
            "3*1= 3 3*2= 6 3*3= 9 3*4=12 3*5=15 3*6=18 3*7=21 3*8=24 3*9=27 \n",
            "4*1= 4 4*2= 8 4*3=12 4*4=16 4*5=20 4*6=24 4*7=28 4*8=32 4*9=36 \n",
            "5*1= 5 5*2=10 5*3=15 5*4=20 5*5=25 5*6=30 5*7=35 5*8=40 5*9=45 \n",
            "6*1= 6 6*2=12 6*3=18 6*4=24 6*5=30 6*6=36 6*7=42 6*8=48 6*9=54 \n",
            "7*1= 7 7*2=14 7*3=21 7*4=28 7*5=35 7*6=42 7*7=49 7*8=56 7*9=63 \n",
            "8*1= 8 8*2=16 8*3=24 8*4=32 8*5=40 8*6=48 8*7=56 8*8=64 8*9=72 \n",
            "9*1= 9 9*2=18 9*3=27 9*4=36 9*5=45 9*6=54 9*7=63 9*8=72 9*9=81 \n"
          ]
        }
      ]
    },
    {
      "cell_type": "code",
      "source": [
        "s=\"\"\n",
        "for i in (1,2,3,4,5,6,7,8,9):\n",
        "    for j in(1,2,3,4,5,6,7,8,9):\n",
        "        s+=str(i)+\"*\"+str(j)+\"=\"+str(i*j)+\"\\t\"\n",
        "    s+=\"\\n\"\n",
        "print(s)"
      ],
      "metadata": {
        "colab": {
          "base_uri": "https://localhost:8080/"
        },
        "id": "SJBOcWd1hmCq",
        "outputId": "e20e6468-483b-49e2-dbf2-ff5d19e11221"
      },
      "execution_count": 27,
      "outputs": [
        {
          "output_type": "stream",
          "name": "stdout",
          "text": [
            "1*1=1\t1*2=2\t1*3=3\t1*4=4\t1*5=5\t1*6=6\t1*7=7\t1*8=8\t1*9=9\t\n",
            "2*1=2\t2*2=4\t2*3=6\t2*4=8\t2*5=10\t2*6=12\t2*7=14\t2*8=16\t2*9=18\t\n",
            "3*1=3\t3*2=6\t3*3=9\t3*4=12\t3*5=15\t3*6=18\t3*7=21\t3*8=24\t3*9=27\t\n",
            "4*1=4\t4*2=8\t4*3=12\t4*4=16\t4*5=20\t4*6=24\t4*7=28\t4*8=32\t4*9=36\t\n",
            "5*1=5\t5*2=10\t5*3=15\t5*4=20\t5*5=25\t5*6=30\t5*7=35\t5*8=40\t5*9=45\t\n",
            "6*1=6\t6*2=12\t6*3=18\t6*4=24\t6*5=30\t6*6=36\t6*7=42\t6*8=48\t6*9=54\t\n",
            "7*1=7\t7*2=14\t7*3=21\t7*4=28\t7*5=35\t7*6=42\t7*7=49\t7*8=56\t7*9=63\t\n",
            "8*1=8\t8*2=16\t8*3=24\t8*4=32\t8*5=40\t8*6=48\t8*7=56\t8*8=64\t8*9=72\t\n",
            "9*1=9\t9*2=18\t9*3=27\t9*4=36\t9*5=45\t9*6=54\t9*7=63\t9*8=72\t9*9=81\t\n",
            "\n"
          ]
        }
      ]
    },
    {
      "cell_type": "code",
      "source": [
        "a=int(input(\"請輸入a的值:\"))\n",
        "b=int(input(\"請輸入b的值:\"))\n",
        "\n",
        "maxno=a*b\n",
        "for i in range(1,maxno+1):\n",
        "  if(i % a==0 and i%b==0):\n",
        "   break\n",
        "print(\"%d和 %d的最小公倍數=%d\" %(a,b,i))"
      ],
      "metadata": {
        "colab": {
          "base_uri": "https://localhost:8080/"
        },
        "id": "RAF7iaOilBK3",
        "outputId": "876ca86d-8c36-4c84-faeb-67dad19c34e3"
      },
      "execution_count": 34,
      "outputs": [
        {
          "output_type": "stream",
          "name": "stdout",
          "text": [
            "請輸入a的值:5\n",
            "請輸入b的值:4\n",
            "5和 4的最小公倍數=20\n"
          ]
        }
      ]
    },
    {
      "cell_type": "code",
      "source": [
        "a = int(input(\"請輸入a的值：\"))\n",
        "b = int(input(\"請輸入b的值：\"))\n",
        "for i in range(1, (a*b)+1):\n",
        "    if(i %a == 0 and i %b == 0):\n",
        "        break\n",
        "print(\"%d 和 %d 的最小公倍數=%d \" %(a,b,i))"
      ],
      "metadata": {
        "colab": {
          "base_uri": "https://localhost:8080/"
        },
        "id": "oPY0rjOGhl_q",
        "outputId": "86d4bf0a-795c-4d4f-f840-b361e82d8dee"
      },
      "execution_count": 29,
      "outputs": [
        {
          "output_type": "stream",
          "name": "stdout",
          "text": [
            "請輸入a的值：4\n",
            "請輸入b的值：6\n",
            "4 和 6 的最小公倍數=12 \n"
          ]
        }
      ]
    },
    {
      "cell_type": "code",
      "source": [
        "n = int(input(\"請輸入正整數：\"))\n",
        "for i in range(1,n+1):\n",
        "    if i % 5 == 0:\n",
        "      continue\n",
        "    print(i,end=\" \")"
      ],
      "metadata": {
        "colab": {
          "base_uri": "https://localhost:8080/"
        },
        "id": "erWjtly4hl85",
        "outputId": "5768c575-a2d5-4734-c5ff-7a0c8bb6f066"
      },
      "execution_count": 30,
      "outputs": [
        {
          "output_type": "stream",
          "name": "stdout",
          "text": [
            "請輸入正整數：12\n",
            "1 2 3 4 6 7 8 9 11 12 "
          ]
        }
      ]
    },
    {
      "cell_type": "code",
      "source": [
        "n = int(input(\"請輸入正整數：\"))\n",
        "for i in range(1,n+1):\n",
        "    if i % 5 == 0:\n",
        "      continue\n",
        "    print(i,end=\" \")"
      ],
      "metadata": {
        "colab": {
          "base_uri": "https://localhost:8080/"
        },
        "id": "ipJjFOWBhl6q",
        "outputId": "873e614b-90b7-4ee5-e58e-31ae19ed151a"
      },
      "execution_count": 31,
      "outputs": [
        {
          "output_type": "stream",
          "name": "stdout",
          "text": [
            "請輸入正整數：21\n",
            "1 2 3 4 6 7 8 9 11 12 13 14 16 17 18 19 21 "
          ]
        }
      ]
    },
    {
      "cell_type": "code",
      "source": [
        "total=n=0\n",
        "while(n<10):\n",
        "  n+=1\n",
        "  total+=n\n",
        "print(total)"
      ],
      "metadata": {
        "colab": {
          "base_uri": "https://localhost:8080/"
        },
        "id": "lsvG1rZthl3w",
        "outputId": "8f574c19-2431-40b6-bc27-864ddcc6725e"
      },
      "execution_count": 35,
      "outputs": [
        {
          "output_type": "stream",
          "name": "stdout",
          "text": [
            "55\n"
          ]
        }
      ]
    },
    {
      "cell_type": "code",
      "source": [
        "total=i=1\n",
        "n=int(input(\"請輸入正整數n的值\"))\n",
        "while i<=n:\n",
        "  total*=i\n",
        "  i+=1\n",
        "print(\"%d!=%d\" % (n,total))"
      ],
      "metadata": {
        "colab": {
          "base_uri": "https://localhost:8080/"
        },
        "id": "gGv_xRi9hl1G",
        "outputId": "a2c8ce55-fc1f-4ba0-a059-4dc959a11410"
      },
      "execution_count": 36,
      "outputs": [
        {
          "output_type": "stream",
          "name": "stdout",
          "text": [
            "請輸入正整數n的值100\n",
            "100!=93326215443944152681699238856266700490715968264381621468592963895217599993229915608941463976156518286253697920827223758251185210916864000000000000000000000000\n"
          ]
        }
      ]
    },
    {
      "cell_type": "code",
      "source": [
        "sumA=0\n",
        "sumB=0\n",
        "for i in range(0,51):\n",
        "  if i%2==0:\n",
        "    sumB=sumB+i\n",
        "  else:\n",
        "    sumA=sumA+i\n",
        "print(\"0到50的偶數和結果是:\"+str(sumB)) \n",
        "print(\"0到50的奇數和結果是:\"+str(sumA))"
      ],
      "metadata": {
        "colab": {
          "base_uri": "https://localhost:8080/"
        },
        "id": "lRxU8Ivjhlyi",
        "outputId": "c810bfa4-32ea-4f9f-ac4d-015e6e480544"
      },
      "execution_count": 37,
      "outputs": [
        {
          "output_type": "stream",
          "name": "stdout",
          "text": [
            "0到50的偶數和結果是:650\n",
            "0到50的奇數和結果是:625\n"
          ]
        }
      ]
    },
    {
      "cell_type": "code",
      "source": [
        "n=int(input(\"請輸入正整數\"))\n",
        "for i in range(n,0,-1):\n",
        "  for j in range(i,0,-1):\n",
        "    print(\"*\",end=\"\")\n",
        "  print()"
      ],
      "metadata": {
        "colab": {
          "base_uri": "https://localhost:8080/"
        },
        "id": "OP1iQyRChlt3",
        "outputId": "b7502893-0919-47cb-d06c-2c494289bfc0"
      },
      "execution_count": 38,
      "outputs": [
        {
          "output_type": "stream",
          "name": "stdout",
          "text": [
            "請輸入正整數7\n",
            "*******\n",
            "******\n",
            "*****\n",
            "****\n",
            "***\n",
            "**\n",
            "*\n"
          ]
        }
      ]
    },
    {
      "cell_type": "code",
      "source": [
        "sum=0\n",
        "for i in range(1,101):\n",
        "  if i %3 ==0 or i%7==0:\n",
        "    sum += i\n",
        "print(\"數值1到100中,所有是3或7倍數的數之總和=\" +str(sum))"
      ],
      "metadata": {
        "colab": {
          "base_uri": "https://localhost:8080/"
        },
        "id": "PQn4fIMhlX3O",
        "outputId": "5d339ba2-08c8-4d9a-9acc-e9f5639e1a31"
      },
      "execution_count": 39,
      "outputs": [
        {
          "output_type": "stream",
          "name": "stdout",
          "text": [
            "數值1到100中,所有是3或7倍數的數之總和=2208\n"
          ]
        }
      ]
    },
    {
      "cell_type": "code",
      "source": [
        "n=int(input(\"請輸入正整數:\"))\n",
        "\n",
        "for i in range(1,n+1):\n",
        "  if n % i ==0:\n",
        "    print(n,'的因數有'+str(i))\n",
        "for i in range(2,n):\n",
        "  if n%i==0:\n",
        "    print(str(n)+\"不是質數\")\n",
        "    break\n",
        "else:\n",
        "  print(str(n)+\"是質數\")"
      ],
      "metadata": {
        "colab": {
          "base_uri": "https://localhost:8080/"
        },
        "id": "KnMNF35_lX0k",
        "outputId": "6de8ba99-0be8-41f4-9e57-6321ca7b31e5"
      },
      "execution_count": 40,
      "outputs": [
        {
          "output_type": "stream",
          "name": "stdout",
          "text": [
            "請輸入正整數:12\n",
            "12 的因數有1\n",
            "12 的因數有2\n",
            "12 的因數有3\n",
            "12 的因數有4\n",
            "12 的因數有6\n",
            "12 的因數有12\n",
            "12不是質數\n"
          ]
        }
      ]
    },
    {
      "cell_type": "code",
      "source": [
        "n=int(input(\"請輸入正整數:\"))\n",
        "\n",
        "for i in range(1,n+1):\n",
        "  if n % i ==0:\n",
        "    print(n,'的因數有:'+str(i))\n",
        "for i in range(2,n):\n",
        "  if n%i==0:\n",
        "    print(str(n)+\"不是質數\")\n",
        "    break\n",
        "else:\n",
        "  print(str(n)+\"是質數\")"
      ],
      "metadata": {
        "colab": {
          "base_uri": "https://localhost:8080/"
        },
        "id": "Qe9-8xL1lXyc",
        "outputId": "fd5c3a78-b52c-4e55-9d62-285cbad771b0"
      },
      "execution_count": 41,
      "outputs": [
        {
          "output_type": "stream",
          "name": "stdout",
          "text": [
            "請輸入正整數:11\n",
            "11 的因數有:1\n",
            "11 的因數有:11\n",
            "11是質數\n"
          ]
        }
      ]
    },
    {
      "cell_type": "code",
      "source": [
        "list5=[\"tom\",\"1234\"],[\"mary\",\"abcd\"],[\"david\",\"5678\"]\n",
        "print(list5[1])\n",
        "print(list5[0])\n",
        "print(list5[1][1])\n",
        "print(list5[0][0])\n",
        "print(list5[1][0])"
      ],
      "metadata": {
        "colab": {
          "base_uri": "https://localhost:8080/"
        },
        "id": "bmQEFpltlXvb",
        "outputId": "adde98b3-f088-48d2-e984-0512389d2abf"
      },
      "execution_count": 44,
      "outputs": [
        {
          "output_type": "stream",
          "name": "stdout",
          "text": [
            "['mary', 'abcd']\n",
            "['tom', '1234']\n",
            "abcd\n",
            "tom\n",
            "mary\n"
          ]
        }
      ]
    },
    {
      "cell_type": "code",
      "source": [
        "list6=[\"國文成績:85分\",\"數學成績:79分\",\"英文成績:93分\"]\n",
        "print(list6[0])\n",
        "print(list6[1])\n",
        "print(list6[2])\n",
        "score=[85,79,93]\n",
        "print(\"國文成績:%d\"%score[0])\n",
        "print(\"數學成績:%d\"%score[1])\n",
        "print(\"英文成績:%d\"%score[2])"
      ],
      "metadata": {
        "colab": {
          "base_uri": "https://localhost:8080/"
        },
        "id": "rtphEaghlXsP",
        "outputId": "aa3f475f-c632-4235-b8e6-e2cc27ce0291"
      },
      "execution_count": 45,
      "outputs": [
        {
          "output_type": "stream",
          "name": "stdout",
          "text": [
            "國文成績:85分\n",
            "數學成績:79分\n",
            "英文成績:93分\n",
            "國文成績:85\n",
            "數學成績:79\n",
            "英文成績:93\n"
          ]
        }
      ]
    },
    {
      "cell_type": "code",
      "source": [
        "subjects=[\"國文\",\"英文\",\"數學\"]\n",
        "scores=[85,79,93]\n",
        "for i in range(len(scores)):\n",
        "  print(\"%s成績:%d分\"%(subjects[i],scores[i]))"
      ],
      "metadata": {
        "colab": {
          "base_uri": "https://localhost:8080/"
        },
        "id": "vYNWnTdXlXqq",
        "outputId": "b25a847e-ddc3-42e1-f182-10abadedbfcc"
      },
      "execution_count": 46,
      "outputs": [
        {
          "output_type": "stream",
          "name": "stdout",
          "text": [
            "國文成績:85分\n",
            "英文成績:79分\n",
            "數學成績:93分\n"
          ]
        }
      ]
    },
    {
      "cell_type": "code",
      "source": [
        "name=['Tom','Mary','Tony']\n",
        "number=[1,2,3]\n",
        "for i in range(len(name)):\n",
        "  print(\"編號:%d 姓名:%s\"%(number[i],name[i]))"
      ],
      "metadata": {
        "colab": {
          "base_uri": "https://localhost:8080/"
        },
        "id": "CK5C97hRlXnR",
        "outputId": "65bebcdb-1a96-4f84-a34a-889b6775eb3b"
      },
      "execution_count": 47,
      "outputs": [
        {
          "output_type": "stream",
          "name": "stdout",
          "text": [
            "編號:1 姓名:Tom\n",
            "編號:2 姓名:Mary\n",
            "編號:3 姓名:Tony\n"
          ]
        }
      ]
    },
    {
      "cell_type": "code",
      "source": [
        ""
      ],
      "metadata": {
        "id": "CnYCMfAulXkY"
      },
      "execution_count": null,
      "outputs": []
    },
    {
      "cell_type": "code",
      "source": [
        ""
      ],
      "metadata": {
        "id": "NY19GYnBlXf_"
      },
      "execution_count": null,
      "outputs": []
    },
    {
      "cell_type": "code",
      "source": [
        ""
      ],
      "metadata": {
        "id": "ili2jy2dlXdT"
      },
      "execution_count": null,
      "outputs": []
    },
    {
      "cell_type": "code",
      "source": [
        ""
      ],
      "metadata": {
        "id": "m7SyMpSrlXbD"
      },
      "execution_count": null,
      "outputs": []
    },
    {
      "cell_type": "code",
      "source": [
        ""
      ],
      "metadata": {
        "id": "ZSWP-5RPlXYb"
      },
      "execution_count": null,
      "outputs": []
    },
    {
      "cell_type": "code",
      "source": [
        ""
      ],
      "metadata": {
        "id": "3UD1SiFGlXV-"
      },
      "execution_count": null,
      "outputs": []
    },
    {
      "cell_type": "code",
      "source": [
        ""
      ],
      "metadata": {
        "id": "aLq3ydallXTR"
      },
      "execution_count": null,
      "outputs": []
    },
    {
      "cell_type": "code",
      "source": [
        ""
      ],
      "metadata": {
        "id": "lKeDSm_ElXQv"
      },
      "execution_count": null,
      "outputs": []
    }
  ]
}