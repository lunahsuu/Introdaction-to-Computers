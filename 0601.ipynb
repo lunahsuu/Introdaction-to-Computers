{
  "nbformat": 4,
  "nbformat_minor": 0,
  "metadata": {
    "colab": {
      "name": "0601.ipynb",
      "provenance": [],
      "authorship_tag": "ABX9TyOBdldnnrg+fFJ/jJZN2s/I",
      "include_colab_link": true
    },
    "kernelspec": {
      "name": "python3",
      "display_name": "Python 3"
    },
    "language_info": {
      "name": "python"
    }
  },
  "cells": [
    {
      "cell_type": "markdown",
      "metadata": {
        "id": "view-in-github",
        "colab_type": "text"
      },
      "source": [
        "<a href=\"https://colab.research.google.com/github/lunahsuu/Introdaction-to-Computers/blob/main/0601.ipynb\" target=\"_parent\"><img src=\"https://colab.research.google.com/assets/colab-badge.svg\" alt=\"Open In Colab\"/></a>"
      ]
    },
    {
      "cell_type": "code",
      "execution_count": null,
      "metadata": {
        "colab": {
          "base_uri": "https://localhost:8080/"
        },
        "id": "uwmpn20jZMNR",
        "outputId": "874d6f77-99bc-4f4f-bdab-a2d027e3e57c"
      },
      "outputs": [
        {
          "output_type": "stream",
          "name": "stdout",
          "text": [
            "0601\n"
          ]
        }
      ],
      "source": [
        "print(\"0601\")"
      ]
    },
    {
      "cell_type": "code",
      "source": [
        "for i in range(2,10):\n",
        "  for j in range(1,10):\n",
        "    product= i * j\n",
        "    print(\"%d*%d=%2d\" % (i,j,product),end=\" \")\n",
        "  print( )"
      ],
      "metadata": {
        "colab": {
          "base_uri": "https://localhost:8080/"
        },
        "id": "qFiI_r29ZQFT",
        "outputId": "394d44e6-aa46-46f4-b74f-69cc6d2a6220"
      },
      "execution_count": null,
      "outputs": [
        {
          "output_type": "stream",
          "name": "stdout",
          "text": [
            "2*1= 2 2*2= 4 2*3= 6 2*4= 8 2*5=10 2*6=12 2*7=14 2*8=16 2*9=18 \n",
            "3*1= 3 3*2= 6 3*3= 9 3*4=12 3*5=15 3*6=18 3*7=21 3*8=24 3*9=27 \n",
            "4*1= 4 4*2= 8 4*3=12 4*4=16 4*5=20 4*6=24 4*7=28 4*8=32 4*9=36 \n",
            "5*1= 5 5*2=10 5*3=15 5*4=20 5*5=25 5*6=30 5*7=35 5*8=40 5*9=45 \n",
            "6*1= 6 6*2=12 6*3=18 6*4=24 6*5=30 6*6=36 6*7=42 6*8=48 6*9=54 \n",
            "7*1= 7 7*2=14 7*3=21 7*4=28 7*5=35 7*6=42 7*7=49 7*8=56 7*9=63 \n",
            "8*1= 8 8*2=16 8*3=24 8*4=32 8*5=40 8*6=48 8*7=56 8*8=64 8*9=72 \n",
            "9*1= 9 9*2=18 9*3=27 9*4=36 9*5=45 9*6=54 9*7=63 9*8=72 9*9=81 \n"
          ]
        }
      ]
    },
    {
      "cell_type": "code",
      "source": [
        "a=int(input(\"請輸入a的值:\"))\n",
        "b=int(input(\"請輸入b的值:\"))\n",
        "\n",
        "maxno=a*b\n",
        "for i in range(1,maxno+1):\n",
        "  if(i % a==0 and i%b==0):\n",
        "   break\n",
        "print(\"%d和 %d的最小公倍數=%d\" %(a,b,i))"
      ],
      "metadata": {
        "colab": {
          "base_uri": "https://localhost:8080/"
        },
        "id": "Vg5rdX11ZQDL",
        "outputId": "99d2be82-0779-46f7-c1b2-01f9960d053c"
      },
      "execution_count": null,
      "outputs": [
        {
          "output_type": "stream",
          "name": "stdout",
          "text": [
            "請輸入a的值:5\n",
            "請輸入b的值:4\n",
            "5和 4的最小公倍數=20\n"
          ]
        }
      ]
    },
    {
      "cell_type": "code",
      "source": [
        "n=int(input(\"請輸入一個正整數\"))\n",
        "for i in range(1,n+1):\n",
        "  if i % 5==0:\n",
        "    continue\n",
        "  print(i,end=\" \")"
      ],
      "metadata": {
        "colab": {
          "base_uri": "https://localhost:8080/"
        },
        "id": "zfijB2tUZQAc",
        "outputId": "ad32bbd2-2dc5-4f68-f254-f96d71ed7b5b"
      },
      "execution_count": null,
      "outputs": [
        {
          "output_type": "stream",
          "name": "stdout",
          "text": [
            "請輸入一個正整數25\n",
            "1 2 3 4 6 7 8 9 11 12 13 14 16 17 18 19 21 22 23 24 "
          ]
        }
      ]
    },
    {
      "cell_type": "code",
      "source": [
        "total=n=0\n",
        "while(n<10):\n",
        "  n+=1\n",
        "  total+=n\n",
        "print(total)"
      ],
      "metadata": {
        "colab": {
          "base_uri": "https://localhost:8080/"
        },
        "id": "F9GCOIR2ZP92",
        "outputId": "a7f7302e-72fb-4027-feda-bb6bb2d4aac9"
      },
      "execution_count": null,
      "outputs": [
        {
          "output_type": "stream",
          "name": "stdout",
          "text": [
            "55\n"
          ]
        }
      ]
    },
    {
      "cell_type": "code",
      "source": [
        "total=i=1\n",
        "n=int(input(\"請輸入正整數n的值\"))\n",
        "while i<=n:\n",
        "  total*=i\n",
        "  i+=1\n",
        "print(\"%d!=%d\" % (n,total))"
      ],
      "metadata": {
        "colab": {
          "base_uri": "https://localhost:8080/"
        },
        "id": "dfrmCb-iZP7H",
        "outputId": "985646e7-b72c-44fe-a9fa-4dddcaa5881c"
      },
      "execution_count": null,
      "outputs": [
        {
          "output_type": "stream",
          "name": "stdout",
          "text": [
            "請輸入正整數n的值100\n",
            "100!=93326215443944152681699238856266700490715968264381621468592963895217599993229915608941463976156518286253697920827223758251185210916864000000000000000000000000\n"
          ]
        }
      ]
    },
    {
      "cell_type": "code",
      "source": [
        "sumA=0\n",
        "sumB=0\n",
        "for i in range(0,51):\n",
        "  if i%2==0:\n",
        "    sumB=sumB+i\n",
        "  else:\n",
        "    sumA=sumA+i\n",
        "print(\"0到50的偶數和結果是:\"+str(sumB)) \n",
        "print(\"0到50的奇數和結果是:\"+str(sumA))"
      ],
      "metadata": {
        "colab": {
          "base_uri": "https://localhost:8080/"
        },
        "id": "tngASRoiZP4X",
        "outputId": "ba7b0f2d-4b90-4205-c3d8-07c3991b4e5d"
      },
      "execution_count": null,
      "outputs": [
        {
          "output_type": "stream",
          "name": "stdout",
          "text": [
            "0到50的偶數和結果是:650\n",
            "0到50的奇數和結果是:625\n"
          ]
        }
      ]
    },
    {
      "cell_type": "code",
      "source": [
        "n=int(input(\"請輸入正整數\"))\n",
        "for i in range(n,0,-1):\n",
        "  for j in range(i,0,-1):\n",
        "    print(\"*\",end=\"\")\n",
        "  print()"
      ],
      "metadata": {
        "colab": {
          "base_uri": "https://localhost:8080/"
        },
        "id": "vsrwuJO-ZP10",
        "outputId": "a0c35a34-6f71-4610-df83-bc882c5e3bfb"
      },
      "execution_count": null,
      "outputs": [
        {
          "output_type": "stream",
          "name": "stdout",
          "text": [
            "請輸入正整數7\n",
            "*******\n",
            "******\n",
            "*****\n",
            "****\n",
            "***\n",
            "**\n",
            "*\n"
          ]
        }
      ]
    },
    {
      "cell_type": "code",
      "source": [
        "n=int(input(\"請輸入正整數\"))\n",
        "for i in range(n,0,-1):\n",
        "  for j in range(i,0,-1):\n",
        "    print(\"*\",end=\"\")\n",
        "  print()"
      ],
      "metadata": {
        "colab": {
          "base_uri": "https://localhost:8080/"
        },
        "id": "j8HVUi2hZPzQ",
        "outputId": "ce12019f-b2c6-422e-fca3-cf3654f818a1"
      },
      "execution_count": null,
      "outputs": [
        {
          "output_type": "stream",
          "name": "stdout",
          "text": [
            "請輸入正整數5\n",
            "*****\n",
            "****\n",
            "***\n",
            "**\n",
            "*\n"
          ]
        }
      ]
    },
    {
      "cell_type": "code",
      "source": [
        "sum=0\n",
        "for i in range(1,101):\n",
        "  if i %3 ==0 or i%7==0:\n",
        "    sum += i\n",
        "print(\"數值1到100中,所有是3或7倍數的數之總和=\" +str(sum))"
      ],
      "metadata": {
        "colab": {
          "base_uri": "https://localhost:8080/"
        },
        "id": "l9LlwrQvZPwW",
        "outputId": "895c7188-dde9-4089-95ae-5d4f61138c2b"
      },
      "execution_count": null,
      "outputs": [
        {
          "output_type": "stream",
          "name": "stdout",
          "text": [
            "數值1到100中,所有是3或7倍數的數之總和=2208\n"
          ]
        }
      ]
    },
    {
      "cell_type": "code",
      "source": [
        "n=int(input(\"請輸入正整數:\"))\n",
        "\n",
        "for i in range(1,n+1):\n",
        "  if n % i ==0:\n",
        "    print(n,'的因數有'+str(i))\n",
        "for i in range(2,n):\n",
        "  if n%i==0:\n",
        "    print(str(n)+\"不是質數\")\n",
        "    break\n",
        "else:\n",
        "  print(str(n)+\"是質數\")"
      ],
      "metadata": {
        "colab": {
          "base_uri": "https://localhost:8080/"
        },
        "id": "ORvktg0uZPtl",
        "outputId": "f6564d50-bf64-43ea-9fae-6f8f56d2f069"
      },
      "execution_count": null,
      "outputs": [
        {
          "output_type": "stream",
          "name": "stdout",
          "text": [
            "請輸入正整數:12\n",
            "12 的因數有1\n",
            "12 的因數有2\n",
            "12 的因數有3\n",
            "12 的因數有4\n",
            "12 的因數有6\n",
            "12 的因數有12\n",
            "12不是質數\n"
          ]
        }
      ]
    },
    {
      "cell_type": "code",
      "source": [
        "n=int(input(\"請輸入正整數:\"))\n",
        "\n",
        "for i in range(1,n+1):\n",
        "  if n % i ==0:\n",
        "    print(n,'的因數有:'+str(i))\n",
        "for i in range(2,n):\n",
        "  if n%i==0:\n",
        "    print(str(n)+\"不是質數\")\n",
        "    break\n",
        "else:\n",
        "  print(str(n)+\"是質數\")"
      ],
      "metadata": {
        "colab": {
          "base_uri": "https://localhost:8080/"
        },
        "id": "gHOX4qf6ZPqD",
        "outputId": "1390d474-070e-410b-e2d9-943bc878a78b"
      },
      "execution_count": null,
      "outputs": [
        {
          "output_type": "stream",
          "name": "stdout",
          "text": [
            "請輸入正整數:11\n",
            "11 的因數有:1\n",
            "11 的因數有:11\n",
            "11是質數\n"
          ]
        }
      ]
    }
  ]
}